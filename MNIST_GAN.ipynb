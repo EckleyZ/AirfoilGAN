{
 "cells": [
  {
   "cell_type": "markdown",
   "id": "90ff91df",
   "metadata": {},
   "source": [
    "## Import packages"
   ]
  },
  {
   "cell_type": "code",
   "execution_count": 2,
   "id": "e57ae18c",
   "metadata": {},
   "outputs": [
    {
     "name": "stdout",
     "output_type": "stream",
     "text": [
      "Models Loaded\n"
     ]
    }
   ],
   "source": [
    "import tensorflow as tf\n",
    "import numpy as np\n",
    "import matplotlib.pyplot as plt\n",
    "from tensorflow import keras\n",
    "from numpy import expand_dims\n",
    "from numpy import zeros\n",
    "from numpy import ones\n",
    "from numpy import vstack\n",
    "from numpy.random import randn\n",
    "from numpy.random import randint\n",
    "from tensorflow.keras.datasets.mnist import load_data\n",
    "from tensorflow.keras.optimizers import Adam\n",
    "from tensorflow.keras.models import Sequential\n",
    "from tensorflow.keras.layers import Dense\n",
    "from tensorflow.keras.layers import Reshape\n",
    "from tensorflow.keras.layers import Flatten\n",
    "from tensorflow.keras.layers import Conv2D\n",
    "from tensorflow.keras.layers import Conv2DTranspose\n",
    "from tensorflow.keras.layers import LeakyReLU\n",
    "from tensorflow.keras.layers import Dropout\n",
    "from matplotlib import pyplot\n",
    "from tensorflow.keras.datasets import mnist\n",
    "print('Models Loaded')"
   ]
  },
  {
   "cell_type": "markdown",
   "id": "5a5e6917",
   "metadata": {},
   "source": [
    "## Define generator"
   ]
  },
  {
   "cell_type": "code",
   "execution_count": 4,
   "id": "e2cb453e",
   "metadata": {},
   "outputs": [
    {
     "name": "stdout",
     "output_type": "stream",
     "text": [
      "Function defined\n"
     ]
    }
   ],
   "source": [
    "def define_generator(latent_dim):\n",
    "    model = Sequential()\n",
    "    # foundation for 7x7 image\n",
    "    n_nodes = 128 * 7 * 7\n",
    "    model.add(Dense(n_nodes, input_dim=latent_dim))\n",
    "    model.add(LeakyReLU(alpha=0.2))\n",
    "    model.add(Reshape((7, 7, 128)))\n",
    "    # upsample to 14x14\n",
    "    model.add(Conv2DTranspose(128, (4,4), strides=(2,2), padding='same'))\n",
    "    model.add(LeakyReLU(alpha=0.2))\n",
    "    # upsample to 28x28\n",
    "    model.add(Conv2DTranspose(128, (4,4), strides=(2,2), padding='same'))\n",
    "    model.add(LeakyReLU(alpha=0.2))\n",
    "    model.add(Conv2D(1, (7,7), activation='sigmoid', padding='same'))\n",
    "    return model\n",
    "\n",
    "print('Function defined')"
   ]
  },
  {
   "cell_type": "markdown",
   "id": "8a57b5b4",
   "metadata": {},
   "source": [
    "## Test Generator"
   ]
  },
  {
   "cell_type": "code",
   "execution_count": 5,
   "id": "4fd7d39d",
   "metadata": {},
   "outputs": [
    {
     "data": {
      "text/plain": [
       "<matplotlib.image.AxesImage at 0x2a99674d190>"
      ]
     },
     "execution_count": 5,
     "metadata": {},
     "output_type": "execute_result"
    },
    {
     "data": {
      "image/png": "[encoded data removed]",
      "text/plain": [
       "<Figure size 432x288 with 1 Axes>"
      ]
     },
     "metadata": {
      "needs_background": "light"
     },
     "output_type": "display_data"
    }
   ],
   "source": [
    "# Testing the generator\n",
    "noise = tf.random.normal([1, 100])\n",
    "generator = define_generator(100)\n",
    "generated_image = generator(noise, training=False)\n",
    "plt.imshow(generated_image[0, :, :, 0], cmap='gray')"
   ]
  },
  {
   "cell_type": "markdown",
   "id": "9ab6417b",
   "metadata": {},
   "source": [
    "## Define discriminator"
   ]
  },
  {
   "cell_type": "code",
   "execution_count": 15,
   "id": "fc9805e3",
   "metadata": {},
   "outputs": [
    {
     "name": "stdout",
     "output_type": "stream",
     "text": [
      "Function defined\n"
     ]
    }
   ],
   "source": [
    "def define_discriminator(in_shape=(28,28,1)):\n",
    "    model = Sequential()\n",
    "    model.add(Conv2D(64, (3,3), strides=(2, 2), padding='same', input_shape=in_shape))\n",
    "    model.add(LeakyReLU(alpha=0.2))\n",
    "    model.add(Dropout(0.4))\n",
    "    model.add(Conv2D(64, (3,3), strides=(2, 2), padding='same'))\n",
    "    model.add(LeakyReLU(alpha=0.2))\n",
    "    model.add(Dropout(0.4))\n",
    "    model.add(Flatten())\n",
    "    model.add(Dense(1, activation='sigmoid'))\n",
    "    # compile model\n",
    "    opt = Adam(learning_rate=0.0002, beta_1=0.5)     #dont know what an adam optimizer is\n",
    "    model.compile(loss='binary_crossentropy', optimizer=opt, metrics=['accuracy'])\n",
    "    return model\n",
    "\n",
    "print('Function defined')"
   ]
  },
  {
   "cell_type": "markdown",
   "id": "1c54fa94",
   "metadata": {},
   "source": [
    "## Create the combined model"
   ]
  },
  {
   "cell_type": "code",
   "execution_count": 16,
   "id": "06e6e4b6",
   "metadata": {},
   "outputs": [
    {
     "name": "stdout",
     "output_type": "stream",
     "text": [
      "Function defined\n"
     ]
    }
   ],
   "source": [
    "# create the combined model\n",
    "def define_gan(g_model, d_model):\n",
    "    # make weights in the discriminator not trainable\n",
    "    d_model.trainable = False\n",
    "    #connect them\n",
    "    model = Sequential()\n",
    "    # add generator\n",
    "    model.add(g_model)\n",
    "    # add discriminator\n",
    "    model.add(d_model)\n",
    "    # compile model\n",
    "    opt = Adam(learning_rate=0.0002, beta_1=0.5)   #dont know what an adam optimizer is\n",
    "    model.compile(loss='binary_crossentropy', optimizer=opt)\n",
    "    return model\n",
    "\n",
    "print('Function defined')"
   ]
  },
  {
   "cell_type": "markdown",
   "id": "65f5d5c0",
   "metadata": {},
   "source": [
    "## Load data and do pre-processing"
   ]
  },
  {
   "cell_type": "code",
   "execution_count": 8,
   "id": "05023611",
   "metadata": {},
   "outputs": [
    {
     "name": "stdout",
     "output_type": "stream",
     "text": [
      "Function defined\n"
     ]
    }
   ],
   "source": [
    "#load the data and do some pre=processing\n",
    "def load_real_samples():\n",
    "    # load mnist dataset\n",
    "    (trainX, _), (_, _) = mnist.load_data()\n",
    "    # expand to 3d, e.g. add channels dimension\n",
    "    X = expand_dims(trainX, axis=-1)\n",
    "    # convert from unsigned ints to floats\n",
    "    X = X.astype('float32')\n",
    "    # scale from [0,255] to [0,1]\n",
    "    X = X/255.0\n",
    "    return X\n",
    "\n",
    "print('Function defined')"
   ]
  },
  {
   "cell_type": "markdown",
   "id": "e96300da",
   "metadata": {},
   "source": [
    "## Create dataset from MNIST"
   ]
  },
  {
   "cell_type": "code",
   "execution_count": 9,
   "id": "a7c70e94",
   "metadata": {},
   "outputs": [
    {
     "name": "stdout",
     "output_type": "stream",
     "text": [
      "Function defined\n"
     ]
    }
   ],
   "source": [
    "# creating a dataset from MNIST images with class label as 1\n",
    "def generate_real_samples(dataset, n_samples):\n",
    "    # choose random instances\n",
    "    ix = randint(0, dataset.shape[0], n_samples)\n",
    "    # retrieve selected images\n",
    "    X = dataset[ix]\n",
    "    # generate 'real' class labels (1)\n",
    "    y = ones((n_samples, 1))\n",
    "    return X, y\n",
    "\n",
    "print('Function defined')"
   ]
  },
  {
   "cell_type": "markdown",
   "id": "2e9c2f47",
   "metadata": {},
   "source": [
    "## Create some input for the generator"
   ]
  },
  {
   "cell_type": "code",
   "execution_count": 10,
   "id": "d8f12833",
   "metadata": {},
   "outputs": [
    {
     "name": "stdout",
     "output_type": "stream",
     "text": [
      "Function defined\n"
     ]
    }
   ],
   "source": [
    "#create input for Generator (generate points in latent space for G)\n",
    "def generate_latent_points(latent_dim, n_samples):\n",
    "    # generate points in the latent space\n",
    "    x_input = randn(latent_dim * n_samples)\n",
    "    # reshape into a batch of inputs for the network\n",
    "    x_input = x_input.reshape(n_samples, latent_dim)\n",
    "    return x_input\n",
    "\n",
    "print('Function defined')"
   ]
  },
  {
   "cell_type": "markdown",
   "id": "fea5ede3",
   "metadata": {},
   "source": [
    "## Use generator to make fake dataset for discriminator"
   ]
  },
  {
   "cell_type": "code",
   "execution_count": 11,
   "id": "1daff0e6",
   "metadata": {},
   "outputs": [
    {
     "name": "stdout",
     "output_type": "stream",
     "text": [
      "Function defined\n"
     ]
    }
   ],
   "source": [
    "#creating fake dataset for discriminator (use G to make fake examples)\n",
    "def generate_fake_samples(g_model, latent_dim, n_samples):    \n",
    "    #generate points in latent space\n",
    "    x_input = generate_latent_points(latent_dim, n_samples)\n",
    "    #predict outputs\n",
    "    X = g_model.predict(x_input)\n",
    "    # create 'fake' class labels (0)\n",
    "    y = zeros((n_samples, 1))\n",
    "    return X, y\n",
    "\n",
    "print('Function defined')"
   ]
  },
  {
   "cell_type": "markdown",
   "id": "f62d6c0c",
   "metadata": {},
   "source": [
    "## Define training function for the model"
   ]
  },
  {
   "cell_type": "code",
   "execution_count": 13,
   "id": "960c8275",
   "metadata": {},
   "outputs": [
    {
     "name": "stdout",
     "output_type": "stream",
     "text": [
      "Function defined\n"
     ]
    }
   ],
   "source": [
    "#Training method GAN\n",
    "def train(g_model, d_model, gan_model, dataset, latent_dim, n_epochs=25, n_batch=256):\n",
    "    bat_per_epo = int(dataset.shape[0]/n_batch)\n",
    "    half_batch = int(n_batch/2)\n",
    "    d_loss = np.zeros([bat_per_epo])\n",
    "    g_loss = np.zeros([bat_per_epo])\n",
    "    #manually enumerate epochs\n",
    "    for i in range(n_epochs):\n",
    "        #enumerate batches over the training set\n",
    "        for j in range(bat_per_epo):\n",
    "            # get randomly selected 'real' samples\n",
    "            X_real, y_real = generate_real_samples(dataset, half_batch)\n",
    "            # generate fake samples\n",
    "            X_fake, y_fake = generate_fake_samples(g_model, latent_dim, half_batch)\n",
    "            # create training set for the discriminator\n",
    "            X, y = vstack((X_real, X_fake)), vstack((y_real, y_fake))\n",
    "            # update discriminator model weights\n",
    "            d_loss[j], _ = d_model.train_on_batch(X, y)\n",
    "            #prepare points in latent space as input for the generator\n",
    "            X_gan = generate_latent_points(latent_dim, n_batch)\n",
    "            # create inverted labels for the fake samples\n",
    "            y_gan = ones((n_batch, 1))\n",
    "            # update the generator via the discriminator's error\n",
    "            g_loss[j] = gan_model.train_on_batch(X_gan, y_gan)\n",
    "            # summarize loss on this batch\n",
    "            \n",
    "        DLavg = sum(d_loss)/bat_per_epo\n",
    "        GLavg = sum(g_loss)/bat_per_epo\n",
    "        print('Batch {0:2d}/{1:2d}, D={2:1.4f}, g={3:1.4f}'.format(i+1,n_epochs,DLavg,GLavg))\n",
    "        \n",
    "print('Function defined')"
   ]
  },
  {
   "cell_type": "markdown",
   "id": "7d8fb418",
   "metadata": {},
   "source": [
    "## Train the model"
   ]
  },
  {
   "cell_type": "code",
   "execution_count": 17,
   "id": "e4d6057d",
   "metadata": {},
   "outputs": [
    {
     "name": "stdout",
     "output_type": "stream",
     "text": [
      "Batch  1/25, D=0.5404, g=0.9893\n",
      "Batch  2/25, D=0.7062, g=0.7790\n",
      "Batch  3/25, D=0.6941, g=0.7181\n",
      "Batch  4/25, D=0.6936, g=0.7167\n",
      "Batch  5/25, D=0.6960, g=0.7092\n",
      "Batch  6/25, D=0.6914, g=0.7102\n",
      "Batch  7/25, D=0.6906, g=0.7011\n",
      "Batch  8/25, D=0.6890, g=0.7087\n",
      "Batch  9/25, D=0.6852, g=0.7177\n",
      "Batch 10/25, D=0.6862, g=0.7062\n",
      "Batch 11/25, D=0.6856, g=0.7075\n",
      "Batch 12/25, D=0.6842, g=0.7097\n",
      "Batch 13/25, D=0.6839, g=0.7108\n",
      "Batch 14/25, D=0.6838, g=0.7100\n",
      "Batch 15/25, D=0.6851, g=0.7077\n",
      "Batch 16/25, D=0.6864, g=0.7069\n",
      "Batch 17/25, D=0.6874, g=0.7062\n",
      "Batch 18/25, D=0.6879, g=0.7066\n",
      "Batch 19/25, D=0.6872, g=0.7065\n",
      "Batch 20/25, D=0.6879, g=0.7082\n",
      "Batch 21/25, D=0.6880, g=0.7071\n",
      "Batch 22/25, D=0.6875, g=0.7074\n",
      "Batch 23/25, D=0.6876, g=0.7066\n",
      "Batch 24/25, D=0.6874, g=0.7084\n",
      "Batch 25/25, D=0.6867, g=0.7084\n"
     ]
    }
   ],
   "source": [
    "# size of the latent space\n",
    "latent_dim = 100\n",
    "# create the disriminator\n",
    "d_model = define_discriminator()\n",
    "# create the generator\n",
    "g_model = define_generator(latent_dim)\n",
    "# create the gan\n",
    "gan_model = define_gan(g_model, d_model)\n",
    "# load image data\n",
    "dataset = load_real_samples()\n",
    "# train model\n",
    "train(g_model, d_model, gan_model, dataset, latent_dim)"
   ]
  },
  {
   "cell_type": "markdown",
   "id": "3b56918c",
   "metadata": {},
   "source": [
    "## Testing the generator after training"
   ]
  },
  {
   "cell_type": "code",
   "execution_count": 19,
   "id": "37d74927",
   "metadata": {},
   "outputs": [
    {
     "name": "stdout",
     "output_type": "stream",
     "text": [
      "WARNING:tensorflow:Compiled the loaded model, but the compiled metrics have yet to be built. `model.compile_metrics` will be empty until you train or evaluate the model.\n",
      "INFO:tensorflow:Assets written to: \\kaggle\\output\\assets\n"
     ]
    },
    {
     "data": {
      "image/png": "[encoded data removed]",
      "text/plain": [
       "<Figure size 288x288 with 10 Axes>"
      ]
     },
     "metadata": {
      "needs_background": "light"
     },
     "output_type": "display_data"
    }
   ],
   "source": [
    "noise_dim = 100\n",
    "num_examples = 10\n",
    "\n",
    "#Seed will be reused overtime to visualize progress in the animated GIF\n",
    "seed = tf.random.normal([num_examples, noise_dim])\n",
    "predictions = g_model(seed, training=False)\n",
    "\n",
    "fig = plt.figure(figsize=(4,4))\n",
    "for i in range(predictions.shape[0]):\n",
    "    plt.subplot(4, 4, i+1)\n",
    "    plt.imshow(predictions[i, :, :, 0], cmap='gray')\n",
    "    plt.axis('off')\n",
    "    \n",
    "g_model.save('\\kaggle\\output')"
   ]
  },
  {
   "cell_type": "markdown",
   "id": "5d7a114a",
   "metadata": {},
   "source": [
    "## Loading a saved model"
   ]
  },
  {
   "cell_type": "code",
   "execution_count": 21,
   "id": "e3776188",
   "metadata": {},
   "outputs": [
    {
     "name": "stdout",
     "output_type": "stream",
     "text": [
      "WARNING:tensorflow:No training configuration found in save file, so the model was *not* compiled. Compile it manually.\n"
     ]
    },
    {
     "data": {
      "image/png": "[encoded data removed]",
      "text/plain": [
       "<Figure size 288x288 with 10 Axes>"
      ]
     },
     "metadata": {
      "needs_background": "light"
     },
     "output_type": "display_data"
    }
   ],
   "source": [
    "gmdl_new = keras.models.load_model('\\kaggle\\output')\n",
    "seed = tf.random.normal([num_examples, noise_dim])\n",
    "predictions = gmdl_new(seed, training=False)\n",
    "\n",
    "fig = plt.figure(figsize=(4,4))\n",
    "for i in range(predictions.shape[0]):\n",
    "    plt.subplot(4, 4, i+1)\n",
    "    plt.imshow(predictions[i, :, :, 0], cmap='gray')\n",
    "    plt.axis('off')"
   ]
  },
  {
   "cell_type": "code",
   "execution_count": null,
   "id": "cf67b57d",
   "metadata": {},
   "outputs": [],
   "source": []
  }
 ],
 "metadata": {
  "kernelspec": {
   "display_name": "Python 3 (ipykernel)",
   "language": "python",
   "name": "python3"
  },
  "language_info": {
   "codemirror_mode": {
    "name": "ipython",
    "version": 3
   },
   "file_extension": ".py",
   "mimetype": "text/x-python",
   "name": "python",
   "nbconvert_exporter": "python",
   "pygments_lexer": "ipython3",
   "version": "3.9.7"
  }
 },
 "nbformat": 4,
 "nbformat_minor": 5
}
